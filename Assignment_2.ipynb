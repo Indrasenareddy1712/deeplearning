{
  "nbformat": 4,
  "nbformat_minor": 0,
  "metadata": {
    "colab": {
      "provenance": [],
      "toc_visible": true
    },
    "kernelspec": {
      "name": "python3",
      "display_name": "Python 3"
    },
    "language_info": {
      "name": "python"
    }
  },
  "cells": [
    {
      "cell_type": "code",
      "execution_count": 1,
      "metadata": {
        "id": "b0o4WgqnCzWT"
      },
      "outputs": [],
      "source": [
        "import numpy as np\n",
        "import tensorflow as tf\n",
        "from tensorflow.keras.datasets import cifar10\n",
        "from tensorflow.keras.applications import VGG16\n",
        "from tensorflow.keras.models import Sequential\n",
        "from tensorflow.keras.layers import Flatten, Dense, Dropout\n",
        "from tensorflow.keras.optimizers import Adam\n",
        "from sklearn.model_selection import train_test_split\n",
        "from sklearn.metrics import accuracy_score, classification_report"
      ]
    },
    {
      "cell_type": "code",
      "source": [
        "\n",
        "(X_train, y_train), (X_test, y_test) = cifar10.load_data()\n",
        "X_train, X_val, y_train, y_val = train_test_split(X_train, y_train, test_size=0.2, random_state=42)"
      ],
      "metadata": {
        "colab": {
          "base_uri": "https://localhost:8080/"
        },
        "id": "F-IGRygaC6Sg",
        "outputId": "75710f32-0d1f-4a4d-ecef-87c82d19b64e"
      },
      "execution_count": 2,
      "outputs": [
        {
          "output_type": "stream",
          "name": "stdout",
          "text": [
            "Downloading data from https://www.cs.toronto.edu/~kriz/cifar-10-python.tar.gz\n",
            "170498071/170498071 [==============================] - 2s 0us/step\n"
          ]
        }
      ]
    },
    {
      "cell_type": "code",
      "source": [
        "\n",
        "\n",
        "X_train = X_train.astype('float32') / 255.0\n",
        "X_val = X_val.astype('float32') / 255.0\n",
        "X_test = X_test.astype('float32') / 255.0\n",
        "\n"
      ],
      "metadata": {
        "id": "x-ugxKfgDE8e"
      },
      "execution_count": 3,
      "outputs": []
    },
    {
      "cell_type": "code",
      "source": [
        "base_model = VGG16(weights='imagenet', include_top=False, input_shape=(32, 32, 3))"
      ],
      "metadata": {
        "colab": {
          "base_uri": "https://localhost:8080/"
        },
        "id": "t5jbeLsxDMia",
        "outputId": "adf1edaa-391b-4421-d776-8ad2be39d9ba"
      },
      "execution_count": 4,
      "outputs": [
        {
          "output_type": "stream",
          "name": "stdout",
          "text": [
            "Downloading data from https://storage.googleapis.com/tensorflow/keras-applications/vgg16/vgg16_weights_tf_dim_ordering_tf_kernels_notop.h5\n",
            "58889256/58889256 [==============================] - 0s 0us/step\n"
          ]
        }
      ]
    },
    {
      "cell_type": "code",
      "source": [
        "\n",
        "\n",
        "for layer in base_model.layers:\n",
        "    layer.trainable = False\n",
        "\n",
        "\n",
        "model = Sequential([\n",
        "    base_model,\n",
        "    Flatten(),\n",
        "    Dense(512, activation='relu'),\n",
        "    Dropout(0.5),\n",
        "    Dense(10, activation='softmax')  # Output layer for 10 classes in CIFAR-10\n",
        "])\n",
        "\n"
      ],
      "metadata": {
        "id": "F9pG4qB1DQEx"
      },
      "execution_count": 5,
      "outputs": []
    },
    {
      "cell_type": "code",
      "source": [
        "model.compile(optimizer=Adam(lr=1e-4), loss='sparse_categorical_crossentropy', metrics=['accuracy'])"
      ],
      "metadata": {
        "colab": {
          "base_uri": "https://localhost:8080/"
        },
        "id": "umv6zW1JDWXM",
        "outputId": "a2969e2a-d756-40d8-8bc5-cd8411046a7f"
      },
      "execution_count": 6,
      "outputs": [
        {
          "output_type": "stream",
          "name": "stderr",
          "text": [
            "WARNING:absl:`lr` is deprecated in Keras optimizer, please use `learning_rate` or use the legacy optimizer, e.g.,tf.keras.optimizers.legacy.Adam.\n"
          ]
        }
      ]
    },
    {
      "cell_type": "code",
      "source": [
        "history = model.fit(\n",
        "    X_train, y_train,\n",
        "    epochs=10,\n",
        "    batch_size=32,\n",
        "    validation_data=(X_val, y_val),\n",
        "    verbose=1\n",
        ")"
      ],
      "metadata": {
        "colab": {
          "base_uri": "https://localhost:8080/"
        },
        "id": "YtOp7RUUDawb",
        "outputId": "c27023be-a1ee-421c-c3da-8087eb594569"
      },
      "execution_count": 9,
      "outputs": [
        {
          "output_type": "stream",
          "name": "stdout",
          "text": [
            "Epoch 1/10\n",
            "1250/1250 [==============================] - 380s 304ms/step - loss: 0.9015 - accuracy: 0.6803 - val_loss: 1.1090 - val_accuracy: 0.6259\n",
            "Epoch 2/10\n",
            "1250/1250 [==============================] - 378s 302ms/step - loss: 0.8949 - accuracy: 0.6779 - val_loss: 1.1064 - val_accuracy: 0.6241\n",
            "Epoch 3/10\n",
            "1250/1250 [==============================] - 377s 302ms/step - loss: 0.8836 - accuracy: 0.6848 - val_loss: 1.1000 - val_accuracy: 0.6324\n",
            "Epoch 4/10\n",
            "1250/1250 [==============================] - 376s 301ms/step - loss: 0.8689 - accuracy: 0.6916 - val_loss: 1.1200 - val_accuracy: 0.6302\n",
            "Epoch 5/10\n",
            "1250/1250 [==============================] - 376s 301ms/step - loss: 0.8590 - accuracy: 0.6968 - val_loss: 1.1239 - val_accuracy: 0.6310\n",
            "Epoch 6/10\n",
            "1250/1250 [==============================] - 377s 302ms/step - loss: 0.8468 - accuracy: 0.6957 - val_loss: 1.1250 - val_accuracy: 0.6300\n",
            "Epoch 7/10\n",
            "1250/1250 [==============================] - 377s 301ms/step - loss: 0.8432 - accuracy: 0.6986 - val_loss: 1.1243 - val_accuracy: 0.6283\n",
            "Epoch 8/10\n",
            "1250/1250 [==============================] - 385s 308ms/step - loss: 0.8292 - accuracy: 0.7017 - val_loss: 1.1375 - val_accuracy: 0.6279\n",
            "Epoch 9/10\n",
            "1250/1250 [==============================] - 377s 302ms/step - loss: 0.8166 - accuracy: 0.7060 - val_loss: 1.1493 - val_accuracy: 0.6252\n",
            "Epoch 10/10\n",
            "1250/1250 [==============================] - 377s 301ms/step - loss: 0.8076 - accuracy: 0.7107 - val_loss: 1.1391 - val_accuracy: 0.6272\n"
          ]
        }
      ]
    },
    {
      "cell_type": "code",
      "source": [],
      "metadata": {
        "id": "WGL4mGkHDfEo"
      },
      "execution_count": null,
      "outputs": []
    }
  ]
}